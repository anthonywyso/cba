{
 "metadata": {
  "name": ""
 },
 "nbformat": 3,
 "nbformat_minor": 0,
 "worksheets": [
  {
   "cells": [
    {
     "cell_type": "code",
     "collapsed": false,
     "input": [
      "import pandas as pd\n",
      "import sqlite3 as sql"
     ],
     "language": "python",
     "metadata": {},
     "outputs": [],
     "prompt_number": 1
    },
    {
     "cell_type": "code",
     "collapsed": false,
     "input": [
      "db_read = 'data/cba.sqlite'"
     ],
     "language": "python",
     "metadata": {},
     "outputs": [],
     "prompt_number": 4
    },
    {
     "cell_type": "code",
     "collapsed": false,
     "input": [
      "sql_query = '''SELECT * from player_season_totals'''\n",
      "\n",
      "with sql.connect(db_read) as con:\n",
      "    df = pd.read_sql(sql_query, con)"
     ],
     "language": "python",
     "metadata": {},
     "outputs": [],
     "prompt_number": 9
    },
    {
     "cell_type": "code",
     "collapsed": false,
     "input": [
      "pst = df.convert_objects(convert_numeric=True)"
     ],
     "language": "python",
     "metadata": {},
     "outputs": [
      {
       "metadata": {},
       "output_type": "pyout",
       "prompt_number": 7,
       "text": [
        "Index([u'sys_id', u'season', u'player', u'pos', u'ht', u'wt', u'team', u'birth_city', u'draft_status', u'nationality', u'sys_id', u'season', u'player', u'team', u'pos', u'gp', u'min', u'fgm', u'fga', u'fgpct', u'fg3m', u'fg3a', u'fg3pct', u'ftm', u'fta', u'ftpct', u'tov', u'pf', u'orb', u'drb', u'reb', u'ast', u'stl', u'blk', u'pts', u'sys_id', u'season', u'player', u'team', u'pos', u'tspct', u'efgpct', u'total_s_pct', u'orbpct', u'drbpct', u'trbpct', u'astpct', u'tovpct', u'stlpct', u'blkpct', u'usgpct', u'ppr', u'pps', u'ortg', u'drtg', u'ediff', u'fic', u'per', u'sys_id', u'season', u'player', u'team', u'pos', u'dbl_dbl', u'tpl_dbl', u'_40_pts', u'_20_reb', u'_20_ast', u'_5_stl', u'_5_blk', u'high_game', u'techs', u'hob', u'ast_to', u'stl_to', u'ft_fga', u'w', u'l', u'win_pct', u'ows', u'dws', u'ws'], dtype='object')"
       ]
      }
     ],
     "prompt_number": 7
    },
    {
     "cell_type": "markdown",
     "metadata": {},
     "source": [
      "###PROCESSING team_info"
     ]
    },
    {
     "cell_type": "raw",
     "metadata": {},
     "source": [
      "CREATE TABLE team_info ( sys_id INTEGER PRIMARY KEY ASC, \n",
      "                  [team_name] TEXT,\n",
      "  [team_id] TEXT,\n",
      "  [city_region] TEXT,\n",
      "  [arena] TEXT,\n",
      "  [head_coach] TEXT,\n",
      "  [division] TEXT,\n",
      "  [cba_induction] INTEGER )"
     ]
    },
    {
     "cell_type": "code",
     "collapsed": false,
     "input": [
      "cba_teams = pd.read_csv('data/cba_teams.csv')"
     ],
     "language": "python",
     "metadata": {},
     "outputs": [],
     "prompt_number": 30
    },
    {
     "cell_type": "code",
     "collapsed": false,
     "input": [
      "with sql.connect(\"data/cbascrape.sqlite\") as con:\n",
      "    con.text_factory = str\n",
      "    cba_teams.to_sql('team_info', con, if_exists='append')"
     ],
     "language": "python",
     "metadata": {},
     "outputs": [],
     "prompt_number": 39
    },
    {
     "cell_type": "code",
     "collapsed": false,
     "input": [],
     "language": "python",
     "metadata": {},
     "outputs": []
    }
   ],
   "metadata": {}
  }
 ]
}