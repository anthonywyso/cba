{
 "metadata": {
  "name": ""
 },
 "nbformat": 3,
 "nbformat_minor": 0,
 "worksheets": [
  {
   "cells": [
    {
     "cell_type": "markdown",
     "metadata": {},
     "source": [
      "#CBA Classification Analysis"
     ]
    },
    {
     "cell_type": "markdown",
     "metadata": {},
     "source": [
      "##Motivation/Background\n",
      "\n",
      "The game of basketball is growing in popularity around the world, and China is a main driver in that. In fact, they have two professional leagues, a major and a minor that employ about 400 total players. Their main, major league is the Chinese Basketball Association (CBA), which is currently comprised of 18 teams, a number that has been growing in recent years to accomodate the surge in demand.\n",
      "\n",
      "This league is becoming increasingly relevant to the overall development of global talent, as players from the United States are now going over and taking advantage of the opportunities for playing time and earning power. With more and more talented, foreign players combining with the improving domestic scene, the CBA is primed for a significant increase in business/revenue as talent attracts spending and spectators. Additionally, the CBA's lack of a players' salary cap further magnifies the earning potential for its players, allowing the consumer market to fully dictate players' value.\n",
      "\n",
      "With this growing collection of quality players, I believe it's important to analyze and better understand this league to identify those who could potentially be valuable in the NBA."
     ]
    },
    {
     "cell_type": "markdown",
     "metadata": {},
     "source": [
      "##Import and process data\n",
      "\n",
      "Import data, try to classify players as foreign or domestic based on attributes/on-court performance  \n",
      "Y = pop off ['nationality']  \n",
      "X = everything other than ['sys_id', 'season', 'player', 'team', 'birth_city', 'draft_status'] from info  \n",
      "\n",
      "Keep all calculated columns for now, address during feature selection  \n",
      "Classification -- kfolds cross validate modeling with logistic regression, random forest, SVC, adaboost, gradientboost  \n",
      "Clustering -- knn  \n",
      "\n",
      "Build ROC curve  \n",
      "\n",
      "Preliminary dimensions:  \n",
      "stats.shape = 774 x 64  \n",
      "stats_final.shape = 708 x 64  \n",
      "\n",
      "\n",
      "Found data integrity issues:\n",
      "\n",
      "1. 'Wei Liu' player_season_advanced, player_season_misc -- FIXED, dropped inconsistencies\n",
      "2. Issues from player_season_info -- FIXED, updated  \n",
      "    \"Xiaowei Zhang\",\"2012\" -- traded b/w SDS & GFD  \n",
      "    \"Tal Co\",\"2012\" -- absent  \n",
      "    \"YoBo Xia\",\"2012\" -- absent  \n",
      "    \"Mike Efevberha\",\"2014\" -- absent  \n",
      "    \"Jerel McNeal\",\"2014\" -- listed under wrong team  \n",
      "3. Missing ht/wt  \n",
      "4. 33 players missing nationality from 2014 -- FIXED, dropped  "
     ]
    },
    {
     "cell_type": "code",
     "collapsed": false,
     "input": [
      "%pylab inline\n",
      "import pandas as pd\n",
      "import sqlite3 as sql"
     ],
     "language": "python",
     "metadata": {},
     "outputs": [
      {
       "output_type": "stream",
       "stream": "stdout",
       "text": [
        "Populating the interactive namespace from numpy and matplotlib\n"
       ]
      }
     ],
     "prompt_number": 1
    },
    {
     "cell_type": "code",
     "collapsed": false,
     "input": [
      "db_read = 'data/cba.sqlite'"
     ],
     "language": "python",
     "metadata": {},
     "outputs": [],
     "prompt_number": 2
    },
    {
     "cell_type": "code",
     "collapsed": false,
     "input": [
      "sql_query = '''SELECT tot.*, adv.*, misc.*, info.ht, info.wt, info.nationality\n",
      "FROM team_info_realgm tinfo\n",
      "JOIN player_season_totals tot\n",
      "ON tinfo.team_id = tot.team\n",
      "JOIN player_season_advanced adv\n",
      "ON tot.player = adv.player AND tot.season = adv.season AND tinfo.team_id = adv.team\n",
      "JOIN player_season_misc misc\n",
      "ON tot.player = misc.player AND tot.season = misc.season AND tinfo.team_id = misc.team\n",
      "JOIN player_season_info info\n",
      "ON tot.player = info.player AND tot.season = info.season  AND tinfo.team = info.team'''\n",
      "\n",
      "with sql.connect(db_read) as con:\n",
      "    df = pd.read_sql(sql_query, con)"
     ],
     "language": "python",
     "metadata": {},
     "outputs": [],
     "prompt_number": 3
    },
    {
     "cell_type": "code",
     "collapsed": false,
     "input": [
      "stats = df.T.drop_duplicates().T"
     ],
     "language": "python",
     "metadata": {},
     "outputs": [],
     "prompt_number": 4
    },
    {
     "cell_type": "code",
     "collapsed": false,
     "input": [
      "stats.shape"
     ],
     "language": "python",
     "metadata": {},
     "outputs": [
      {
       "metadata": {},
       "output_type": "pyout",
       "prompt_number": 5,
       "text": [
        "(774, 64)"
       ]
      }
     ],
     "prompt_number": 5
    },
    {
     "cell_type": "code",
     "collapsed": false,
     "input": [
      "cols_retained = stats.columns - ['sys_id', 'season', 'player', 'team', 'birth_city', 'draft_status']\n",
      "stats = stats[cols_retained]"
     ],
     "language": "python",
     "metadata": {},
     "outputs": [],
     "prompt_number": 6
    },
    {
     "cell_type": "markdown",
     "metadata": {},
     "source": [
      "####Convert ht to inches"
     ]
    },
    {
     "cell_type": "code",
     "collapsed": false,
     "input": [
      "ht_inches = []\n",
      "for height in stats['ht']:\n",
      "    h = height.split('-')\n",
      "    if h[0] and h[1]:\n",
      "        ht = 12.0 * float(h[0]) + 1.0 * float(h[1])\n",
      "        ht_inches.append(ht)\n",
      "    else:\n",
      "        ht_inches.append('')\n",
      "stats['ht'] = ht_inches"
     ],
     "language": "python",
     "metadata": {},
     "outputs": [],
     "prompt_number": 7
    },
    {
     "cell_type": "code",
     "collapsed": false,
     "input": [
      "stats = stats.convert_objects(convert_numeric=True)"
     ],
     "language": "python",
     "metadata": {},
     "outputs": [],
     "prompt_number": 8
    },
    {
     "cell_type": "markdown",
     "metadata": {},
     "source": [
      "####Process missing 'wt' & 'ht'"
     ]
    },
    {
     "cell_type": "code",
     "collapsed": false,
     "input": [
      "stats = stats.fillna(stats.mean()[['ht' , 'wt']])"
     ],
     "language": "python",
     "metadata": {},
     "outputs": [],
     "prompt_number": 9
    },
    {
     "cell_type": "code",
     "collapsed": false,
     "input": [
      "[(type(stats[col]), col) for col in stats.columns]"
     ],
     "language": "python",
     "metadata": {},
     "outputs": [
      {
       "metadata": {},
       "output_type": "pyout",
       "prompt_number": 10,
       "text": [
        "[(pandas.core.series.Series, '_20_ast'),\n",
        " (pandas.core.series.Series, '_20_reb'),\n",
        " (pandas.core.series.Series, '_40_pts'),\n",
        " (pandas.core.series.Series, '_5_blk'),\n",
        " (pandas.core.series.Series, '_5_stl'),\n",
        " (pandas.core.series.Series, 'ast'),\n",
        " (pandas.core.series.Series, 'ast_to'),\n",
        " (pandas.core.series.Series, 'astpct'),\n",
        " (pandas.core.series.Series, 'blk'),\n",
        " (pandas.core.series.Series, 'blkpct'),\n",
        " (pandas.core.series.Series, 'dbl_dbl'),\n",
        " (pandas.core.series.Series, 'drb'),\n",
        " (pandas.core.series.Series, 'drbpct'),\n",
        " (pandas.core.series.Series, 'drtg'),\n",
        " (pandas.core.series.Series, 'dws'),\n",
        " (pandas.core.series.Series, 'ediff'),\n",
        " (pandas.core.series.Series, 'efgpct'),\n",
        " (pandas.core.series.Series, 'fg3a'),\n",
        " (pandas.core.series.Series, 'fg3m'),\n",
        " (pandas.core.series.Series, 'fg3pct'),\n",
        " (pandas.core.series.Series, 'fga'),\n",
        " (pandas.core.series.Series, 'fgm'),\n",
        " (pandas.core.series.Series, 'fgpct'),\n",
        " (pandas.core.series.Series, 'fic'),\n",
        " (pandas.core.series.Series, 'ft_fga'),\n",
        " (pandas.core.series.Series, 'fta'),\n",
        " (pandas.core.series.Series, 'ftm'),\n",
        " (pandas.core.series.Series, 'ftpct'),\n",
        " (pandas.core.series.Series, 'gp'),\n",
        " (pandas.core.series.Series, 'high_game'),\n",
        " (pandas.core.series.Series, 'hob'),\n",
        " (pandas.core.series.Series, 'ht'),\n",
        " (pandas.core.series.Series, 'l'),\n",
        " (pandas.core.series.Series, 'min'),\n",
        " (pandas.core.series.Series, 'nationality'),\n",
        " (pandas.core.series.Series, 'orb'),\n",
        " (pandas.core.series.Series, 'orbpct'),\n",
        " (pandas.core.series.Series, 'ortg'),\n",
        " (pandas.core.series.Series, 'ows'),\n",
        " (pandas.core.series.Series, 'per'),\n",
        " (pandas.core.series.Series, 'pf'),\n",
        " (pandas.core.series.Series, 'pos'),\n",
        " (pandas.core.series.Series, 'ppr'),\n",
        " (pandas.core.series.Series, 'pps'),\n",
        " (pandas.core.series.Series, 'pts'),\n",
        " (pandas.core.series.Series, 'reb'),\n",
        " (pandas.core.series.Series, 'stl'),\n",
        " (pandas.core.series.Series, 'stl_to'),\n",
        " (pandas.core.series.Series, 'stlpct'),\n",
        " (pandas.core.series.Series, 'total_s_pct'),\n",
        " (pandas.core.series.Series, 'tov'),\n",
        " (pandas.core.series.Series, 'tovpct'),\n",
        " (pandas.core.series.Series, 'tpl_dbl'),\n",
        " (pandas.core.series.Series, 'trbpct'),\n",
        " (pandas.core.series.Series, 'tspct'),\n",
        " (pandas.core.series.Series, 'usgpct'),\n",
        " (pandas.core.series.Series, 'w'),\n",
        " (pandas.core.series.Series, 'win_pct'),\n",
        " (pandas.core.series.Series, 'ws'),\n",
        " (pandas.core.series.Series, 'wt')]"
       ]
      }
     ],
     "prompt_number": 10
    },
    {
     "cell_type": "code",
     "collapsed": false,
     "input": [
      "[(stats[col].dtype, col) for col in stats.columns]"
     ],
     "language": "python",
     "metadata": {},
     "outputs": [
      {
       "metadata": {},
       "output_type": "pyout",
       "prompt_number": 11,
       "text": [
        "[(dtype('float64'), '_20_ast'),\n",
        " (dtype('float64'), '_20_reb'),\n",
        " (dtype('float64'), '_40_pts'),\n",
        " (dtype('float64'), '_5_blk'),\n",
        " (dtype('float64'), '_5_stl'),\n",
        " (dtype('int64'), 'ast'),\n",
        " (dtype('float64'), 'ast_to'),\n",
        " (dtype('float64'), 'astpct'),\n",
        " (dtype('int64'), 'blk'),\n",
        " (dtype('float64'), 'blkpct'),\n",
        " (dtype('float64'), 'dbl_dbl'),\n",
        " (dtype('int64'), 'drb'),\n",
        " (dtype('float64'), 'drbpct'),\n",
        " (dtype('float64'), 'drtg'),\n",
        " (dtype('float64'), 'dws'),\n",
        " (dtype('float64'), 'ediff'),\n",
        " (dtype('float64'), 'efgpct'),\n",
        " (dtype('int64'), 'fg3a'),\n",
        " (dtype('int64'), 'fg3m'),\n",
        " (dtype('float64'), 'fg3pct'),\n",
        " (dtype('int64'), 'fga'),\n",
        " (dtype('int64'), 'fgm'),\n",
        " (dtype('float64'), 'fgpct'),\n",
        " (dtype('float64'), 'fic'),\n",
        " (dtype('float64'), 'ft_fga'),\n",
        " (dtype('int64'), 'fta'),\n",
        " (dtype('int64'), 'ftm'),\n",
        " (dtype('float64'), 'ftpct'),\n",
        " (dtype('int64'), 'gp'),\n",
        " (dtype('float64'), 'high_game'),\n",
        " (dtype('float64'), 'hob'),\n",
        " (dtype('float64'), 'ht'),\n",
        " (dtype('float64'), 'l'),\n",
        " (dtype('float64'), 'min'),\n",
        " (dtype('O'), 'nationality'),\n",
        " (dtype('int64'), 'orb'),\n",
        " (dtype('float64'), 'orbpct'),\n",
        " (dtype('float64'), 'ortg'),\n",
        " (dtype('float64'), 'ows'),\n",
        " (dtype('float64'), 'per'),\n",
        " (dtype('int64'), 'pf'),\n",
        " (dtype('O'), 'pos'),\n",
        " (dtype('float64'), 'ppr'),\n",
        " (dtype('float64'), 'pps'),\n",
        " (dtype('int64'), 'pts'),\n",
        " (dtype('int64'), 'reb'),\n",
        " (dtype('int64'), 'stl'),\n",
        " (dtype('float64'), 'stl_to'),\n",
        " (dtype('float64'), 'stlpct'),\n",
        " (dtype('float64'), 'total_s_pct'),\n",
        " (dtype('int64'), 'tov'),\n",
        " (dtype('float64'), 'tovpct'),\n",
        " (dtype('float64'), 'tpl_dbl'),\n",
        " (dtype('float64'), 'trbpct'),\n",
        " (dtype('float64'), 'tspct'),\n",
        " (dtype('float64'), 'usgpct'),\n",
        " (dtype('float64'), 'w'),\n",
        " (dtype('float64'), 'win_pct'),\n",
        " (dtype('float64'), 'ws'),\n",
        " (dtype('float64'), 'wt')]"
       ]
      }
     ],
     "prompt_number": 11
    },
    {
     "cell_type": "code",
     "collapsed": false,
     "input": [
      "[(stats[col].isnull().sum(), col) for col in stats.columns]"
     ],
     "language": "python",
     "metadata": {},
     "outputs": [
      {
       "metadata": {},
       "output_type": "pyout",
       "prompt_number": 12,
       "text": [
        "[(1, '_20_ast'),\n",
        " (1, '_20_reb'),\n",
        " (1, '_40_pts'),\n",
        " (1, '_5_blk'),\n",
        " (1, '_5_stl'),\n",
        " (0, 'ast'),\n",
        " (1, 'ast_to'),\n",
        " (1, 'astpct'),\n",
        " (0, 'blk'),\n",
        " (1, 'blkpct'),\n",
        " (1, 'dbl_dbl'),\n",
        " (0, 'drb'),\n",
        " (1, 'drbpct'),\n",
        " (1, 'drtg'),\n",
        " (1, 'dws'),\n",
        " (1, 'ediff'),\n",
        " (1, 'efgpct'),\n",
        " (0, 'fg3a'),\n",
        " (0, 'fg3m'),\n",
        " (0, 'fg3pct'),\n",
        " (0, 'fga'),\n",
        " (0, 'fgm'),\n",
        " (0, 'fgpct'),\n",
        " (1, 'fic'),\n",
        " (1, 'ft_fga'),\n",
        " (0, 'fta'),\n",
        " (0, 'ftm'),\n",
        " (0, 'ftpct'),\n",
        " (0, 'gp'),\n",
        " (1, 'high_game'),\n",
        " (1, 'hob'),\n",
        " (0, 'ht'),\n",
        " (1, 'l'),\n",
        " (0, 'min'),\n",
        " (0, 'nationality'),\n",
        " (0, 'orb'),\n",
        " (1, 'orbpct'),\n",
        " (1, 'ortg'),\n",
        " (1, 'ows'),\n",
        " (1, 'per'),\n",
        " (0, 'pf'),\n",
        " (51, 'pos'),\n",
        " (1, 'ppr'),\n",
        " (1, 'pps'),\n",
        " (0, 'pts'),\n",
        " (0, 'reb'),\n",
        " (0, 'stl'),\n",
        " (1, 'stl_to'),\n",
        " (1, 'stlpct'),\n",
        " (1, 'total_s_pct'),\n",
        " (0, 'tov'),\n",
        " (1, 'tovpct'),\n",
        " (1, 'tpl_dbl'),\n",
        " (1, 'trbpct'),\n",
        " (1, 'tspct'),\n",
        " (1, 'usgpct'),\n",
        " (1, 'w'),\n",
        " (1, 'win_pct'),\n",
        " (1, 'ws'),\n",
        " (0, 'wt')]"
       ]
      }
     ],
     "prompt_number": 12
    },
    {
     "cell_type": "code",
     "collapsed": false,
     "input": [
      "stats.shape"
     ],
     "language": "python",
     "metadata": {},
     "outputs": [
      {
       "metadata": {},
       "output_type": "pyout",
       "prompt_number": 13,
       "text": [
        "(774, 60)"
       ]
      }
     ],
     "prompt_number": 13
    },
    {
     "cell_type": "markdown",
     "metadata": {},
     "source": [
      "####Process 'nationality' column"
     ]
    },
    {
     "cell_type": "code",
     "collapsed": false,
     "input": [
      "stats['nationality'].value_counts()"
     ],
     "language": "python",
     "metadata": {},
     "outputs": [
      {
       "metadata": {},
       "output_type": "pyout",
       "prompt_number": 14,
       "text": [
        "China                               573\n",
        "United States                       126\n",
        "-                                    33\n",
        "Taiwan                               13\n",
        "Jordan                                7\n",
        "Syria                                 3\n",
        "Puerto Rico                           3\n",
        "Iran                                  3\n",
        "Palestine                             2\n",
        "Ivory Coast                           2\n",
        "Democratic Republic of the Congo      2\n",
        "Netherlands                           1\n",
        "Lebanon                               1\n",
        "Senegal                               1\n",
        "Australia                             1\n",
        "Nigeria                               1\n",
        "France                                1\n",
        "Panama                                1\n",
        "dtype: int64"
       ]
      }
     ],
     "prompt_number": 14
    },
    {
     "cell_type": "code",
     "collapsed": false,
     "input": [
      "stats['nationality'] = stats['nationality'].replace(to_replace='-', value=np.nan)"
     ],
     "language": "python",
     "metadata": {},
     "outputs": [],
     "prompt_number": 15
    },
    {
     "cell_type": "code",
     "collapsed": false,
     "input": [
      "stats = stats.dropna(subset=['nationality'])"
     ],
     "language": "python",
     "metadata": {},
     "outputs": [],
     "prompt_number": 16
    },
    {
     "cell_type": "code",
     "collapsed": false,
     "input": [
      "#domestic for China, Taiwan, Hong Kong, non-domestic for anything else\n",
      "#1 for domestic, 0 for foreign\n",
      "stats['nationality'] = stats['nationality'].apply(lambda x: 1 if x in ['China', 'Taiwan', 'Hong Kong'] else 0)"
     ],
     "language": "python",
     "metadata": {},
     "outputs": [],
     "prompt_number": 17
    },
    {
     "cell_type": "markdown",
     "metadata": {},
     "source": [
      "####stats with no pos column"
     ]
    },
    {
     "cell_type": "code",
     "collapsed": false,
     "input": [
      "stats_nopos = stats.drop(['pos'], axis=1)"
     ],
     "language": "python",
     "metadata": {},
     "outputs": [],
     "prompt_number": 18
    },
    {
     "cell_type": "code",
     "collapsed": false,
     "input": [
      "stats_nopos = stats_nopos.dropna()"
     ],
     "language": "python",
     "metadata": {},
     "outputs": [],
     "prompt_number": 19
    },
    {
     "cell_type": "markdown",
     "metadata": {},
     "source": [
      "####stats dropping the rest with NaN values"
     ]
    },
    {
     "cell_type": "code",
     "collapsed": false,
     "input": [
      "stats = stats.dropna()"
     ],
     "language": "python",
     "metadata": {},
     "outputs": [],
     "prompt_number": 20
    },
    {
     "cell_type": "markdown",
     "metadata": {},
     "source": [
      "####Process positional values... get dummies!"
     ]
    },
    {
     "cell_type": "code",
     "collapsed": false,
     "input": [
      "pos_binarized = pd.get_dummies(stats['pos'], prefix='pos')"
     ],
     "language": "python",
     "metadata": {},
     "outputs": [],
     "prompt_number": 21
    },
    {
     "cell_type": "code",
     "collapsed": false,
     "input": [
      "stats_final = pd.concat([stats, pos_binarized], axis=1).drop(['pos'], axis=1)"
     ],
     "language": "python",
     "metadata": {},
     "outputs": [],
     "prompt_number": 22
    },
    {
     "cell_type": "markdown",
     "metadata": {},
     "source": [
      "##Feature Selection\n",
      "Reduce collinearity  \n",
      "PCA -- Downside is that it removes all interpretability of original features  "
     ]
    },
    {
     "cell_type": "code",
     "collapsed": false,
     "input": [
      "from sklearn.preprocessing import StandardScaler\n",
      "from sklearn.decomposition import PCA"
     ],
     "language": "python",
     "metadata": {},
     "outputs": [],
     "prompt_number": 23
    },
    {
     "cell_type": "code",
     "collapsed": false,
     "input": [
      "y = stats_final.pop('nationality').values\n",
      "x = stats_final.values"
     ],
     "language": "python",
     "metadata": {},
     "outputs": [],
     "prompt_number": 24
    },
    {
     "cell_type": "code",
     "collapsed": false,
     "input": [
      "feature_names = stats_final.columns.values"
     ],
     "language": "python",
     "metadata": {},
     "outputs": [],
     "prompt_number": 25
    },
    {
     "cell_type": "code",
     "collapsed": false,
     "input": [
      "scaler = StandardScaler()\n",
      "x_scaled = scaler.fit_transform(x)"
     ],
     "language": "python",
     "metadata": {},
     "outputs": [],
     "prompt_number": 26
    },
    {
     "cell_type": "code",
     "collapsed": false,
     "input": [
      "def show_exp_var(decomper, data):\n",
      "    var_exp = []\n",
      "    for n in xrange(1, 63+1):\n",
      "        dc = decomper(n_components=n)\n",
      "        dc.fit(data)\n",
      "        var_exp.append(dc.explained_variance_.sum())\n",
      "    plt.figure(figsize=(16,10))\n",
      "    plt.grid(b=True, which='major', color='black', linestyle='-')\n",
      "    plt.plot(np.array(var_exp))\n",
      "    plt.tight_layout()"
     ],
     "language": "python",
     "metadata": {},
     "outputs": [],
     "prompt_number": 27
    },
    {
     "cell_type": "code",
     "collapsed": false,
     "input": [
      "show_exp_var(PCA, x_scaled)"
     ],
     "language": "python",
     "metadata": {},
     "outputs": [
      {
       "metadata": {},
       "output_type": "display_data",
       "png": "[encoded data removed]",
       "text": [
        "<matplotlib.figure.Figure at 0x107f38090>"
       ]
      }
     ],
     "prompt_number": 28
    },
    {
     "cell_type": "code",
     "collapsed": false,
     "input": [
      "pca = PCA(n_components=30)\n",
      "x_reduced = pca.fit_transform(x_scaled)"
     ],
     "language": "python",
     "metadata": {},
     "outputs": [],
     "prompt_number": 29
    },
    {
     "cell_type": "code",
     "collapsed": false,
     "input": [
      "x_reduced.shape"
     ],
     "language": "python",
     "metadata": {},
     "outputs": [
      {
       "metadata": {},
       "output_type": "pyout",
       "prompt_number": 30,
       "text": [
        "(708, 30)"
       ]
      }
     ],
     "prompt_number": 30
    },
    {
     "cell_type": "markdown",
     "metadata": {},
     "source": [
      "##Modeling!!"
     ]
    },
    {
     "cell_type": "code",
     "collapsed": false,
     "input": [
      "from sklearn.cross_validation import train_test_split\n",
      "from sklearn.linear_model import LogisticRegression\n",
      "from sklearn.ensemble import RandomForestClassifier, GradientBoostingClassifier\n",
      "from sklearn.metrics import confusion_matrix, recall_score, precision_score, f1_score, roc_curve, roc_auc_score\n",
      "from sklearn.grid_search import GridSearchCV"
     ],
     "language": "python",
     "metadata": {},
     "outputs": [],
     "prompt_number": 31
    },
    {
     "cell_type": "code",
     "collapsed": false,
     "input": [
      "xtrain, xtest, ytrain, ytest = train_test_split(x_reduced, y, random_state=13)"
     ],
     "language": "python",
     "metadata": {},
     "outputs": [],
     "prompt_number": 32
    },
    {
     "cell_type": "code",
     "collapsed": false,
     "input": [
      "def get_scores(x, y, model):\n",
      "    print \"model:\", model\n",
      "    print \"cf matrix:\\n\", confusion_matrix(y, model.predict(x))\n",
      "    print \"accuracy:\", model.score(x, y)\n",
      "    print \"precision (tp/tp+fp):\", precision_score(y, model.predict(x))\n",
      "    print \"recall (tp/p):\", recall_score(y, model.predict(x))\n",
      "    print \"f1:\", f1_score(y, model.predict(x))"
     ],
     "language": "python",
     "metadata": {},
     "outputs": [],
     "prompt_number": 33
    },
    {
     "cell_type": "markdown",
     "metadata": {},
     "source": [
      "####Basic Logistic Classification"
     ]
    },
    {
     "cell_type": "code",
     "collapsed": false,
     "input": [
      "lg = LogisticRegression()\n",
      "lg.fit(xtrain, ytrain)\n",
      "get_scores(xtest, ytest, lg)"
     ],
     "language": "python",
     "metadata": {},
     "outputs": [
      {
       "output_type": "stream",
       "stream": "stdout",
       "text": [
        "model: LogisticRegression(C=1.0, class_weight=None, dual=False, fit_intercept=True,\n",
        "          intercept_scaling=1, penalty=l2, random_state=None, tol=0.0001)\n",
        "cf matrix:\n",
        "[[ 32   6]\n",
        " [  3 136]]\n",
        "accuracy: 0.949152542373\n",
        "precision (tp/tp+fp): 0.957746478873\n",
        "recall (tp/p): 0.978417266187\n",
        "f1: 0.967971530249\n"
       ]
      }
     ],
     "prompt_number": 34
    },
    {
     "cell_type": "markdown",
     "metadata": {},
     "source": [
      "####Random Forest Classification w/ Grid Search for Optimal Parameters"
     ]
    },
    {
     "cell_type": "code",
     "collapsed": false,
     "input": [
      "rf = RandomForestClassifier(n_jobs=-1)\n",
      "pg = {'n_estimators': np.arange(10, 51, 10), 'criterion': ['gini', 'entropy']}\n",
      "gs = GridSearchCV(rf, param_grid=pg, scoring='f1')\n",
      "gs.fit(x_reduced, y)"
     ],
     "language": "python",
     "metadata": {},
     "outputs": [
      {
       "metadata": {},
       "output_type": "pyout",
       "prompt_number": 35,
       "text": [
        "GridSearchCV(cv=None,\n",
        "       estimator=RandomForestClassifier(bootstrap=True, compute_importances=None,\n",
        "            criterion='gini', max_depth=None, max_features='auto',\n",
        "            min_density=None, min_samples_leaf=1, min_samples_split=2,\n",
        "            n_estimators=10, n_jobs=-1, oob_score=False, random_state=None,\n",
        "            verbose=0),\n",
        "       fit_params={}, iid=True, loss_func=None, n_jobs=1,\n",
        "       param_grid={'n_estimators': array([10, 20, 30, 40, 50]), 'criterion': ['gini', 'entropy']},\n",
        "       pre_dispatch='2*n_jobs', refit=True, score_func=None, scoring='f1',\n",
        "       verbose=0)"
       ]
      }
     ],
     "prompt_number": 35
    },
    {
     "cell_type": "code",
     "collapsed": false,
     "input": [
      "gs.grid_scores_"
     ],
     "language": "python",
     "metadata": {},
     "outputs": [
      {
       "metadata": {},
       "output_type": "pyout",
       "prompt_number": 36,
       "text": [
        "[mean: 0.94693, std: 0.00846, params: {'n_estimators': 10, 'criterion': 'gini'},\n",
        " mean: 0.95242, std: 0.00596, params: {'n_estimators': 20, 'criterion': 'gini'},\n",
        " mean: 0.94765, std: 0.00115, params: {'n_estimators': 30, 'criterion': 'gini'},\n",
        " mean: 0.95706, std: 0.00438, params: {'n_estimators': 40, 'criterion': 'gini'},\n",
        " mean: 0.96152, std: 0.00823, params: {'n_estimators': 50, 'criterion': 'gini'},\n",
        " mean: 0.94990, std: 0.00150, params: {'n_estimators': 10, 'criterion': 'entropy'},\n",
        " mean: 0.95081, std: 0.00224, params: {'n_estimators': 20, 'criterion': 'entropy'},\n",
        " mean: 0.95540, std: 0.00509, params: {'n_estimators': 30, 'criterion': 'entropy'},\n",
        " mean: 0.94969, std: 0.00888, params: {'n_estimators': 40, 'criterion': 'entropy'},\n",
        " mean: 0.95280, std: 0.00147, params: {'n_estimators': 50, 'criterion': 'entropy'}]"
       ]
      }
     ],
     "prompt_number": 36
    },
    {
     "cell_type": "code",
     "collapsed": false,
     "input": [
      "gs.best_params_"
     ],
     "language": "python",
     "metadata": {},
     "outputs": [
      {
       "metadata": {},
       "output_type": "pyout",
       "prompt_number": 37,
       "text": [
        "{'criterion': 'gini', 'n_estimators': 50}"
       ]
      }
     ],
     "prompt_number": 37
    },
    {
     "cell_type": "code",
     "collapsed": false,
     "input": [
      "rf = RandomForestClassifier(n_jobs=-1, n_estimators=50, criterion='gini')\n",
      "rf.fit(xtrain, ytrain)\n",
      "get_scores(xtest, ytest, rf)"
     ],
     "language": "python",
     "metadata": {},
     "outputs": [
      {
       "output_type": "stream",
       "stream": "stdout",
       "text": [
        "model: RandomForestClassifier(bootstrap=True, compute_importances=None,\n",
        "            criterion=gini, max_depth=None, max_features=auto,\n",
        "            min_density=None, min_samples_leaf=1, min_samples_split=2,\n",
        "            n_estimators=50, n_jobs=-1, oob_score=False, random_state=None,\n",
        "            verbose=0)\n",
        "cf matrix:\n"
       ]
      },
      {
       "output_type": "stream",
       "stream": "stdout",
       "text": [
        "[[ 33   5]\n",
        " [  4 135]]\n",
        "accuracy:"
       ]
      },
      {
       "output_type": "stream",
       "stream": "stdout",
       "text": [
        " 0.949152542373\n",
        "precision (tp/tp+fp):"
       ]
      },
      {
       "output_type": "stream",
       "stream": "stdout",
       "text": [
        " 0.964285714286\n",
        "recall (tp/p):"
       ]
      },
      {
       "output_type": "stream",
       "stream": "stdout",
       "text": [
        " 0.971223021583\n",
        "f1:"
       ]
      },
      {
       "output_type": "stream",
       "stream": "stdout",
       "text": [
        " 0.967741935484\n"
       ]
      }
     ],
     "prompt_number": 38
    },
    {
     "cell_type": "code",
     "collapsed": false,
     "input": [
      "rf.classes_"
     ],
     "language": "python",
     "metadata": {},
     "outputs": [
      {
       "metadata": {},
       "output_type": "pyout",
       "prompt_number": 39,
       "text": [
        "array([0, 1])"
       ]
      }
     ],
     "prompt_number": 39
    },
    {
     "cell_type": "markdown",
     "metadata": {},
     "source": [
      "####Random Forest Classification with full, unscaled feature set (\"x\" 63 features)"
     ]
    },
    {
     "cell_type": "code",
     "collapsed": false,
     "input": [
      "xtrain_full, xtest_full, ytrain_full, ytest_full = train_test_split(x, y, random_state=13)"
     ],
     "language": "python",
     "metadata": {},
     "outputs": [],
     "prompt_number": 40
    },
    {
     "cell_type": "code",
     "collapsed": false,
     "input": [
      "rf_full = RandomForestClassifier(n_jobs=-1, n_estimators=50, criterion='gini')\n",
      "rf_full.fit(xtrain_full, ytrain_full)\n",
      "get_scores(xtest_full, ytest_full, rf_full)"
     ],
     "language": "python",
     "metadata": {},
     "outputs": [
      {
       "output_type": "stream",
       "stream": "stdout",
       "text": [
        "model: RandomForestClassifier(bootstrap=True, compute_importances=None,\n",
        "            criterion=gini, max_depth=None, max_features=auto,\n",
        "            min_density=None, min_samples_leaf=1, min_samples_split=2,\n",
        "            n_estimators=50, n_jobs=-1, oob_score=False, random_state=None,\n",
        "            verbose=0)\n",
        "cf matrix:\n"
       ]
      },
      {
       "output_type": "stream",
       "stream": "stdout",
       "text": [
        "[[ 32   6]\n",
        " [  4 135]]\n",
        "accuracy:"
       ]
      },
      {
       "output_type": "stream",
       "stream": "stdout",
       "text": [
        " 0.943502824859\n",
        "precision (tp/tp+fp):"
       ]
      },
      {
       "output_type": "stream",
       "stream": "stdout",
       "text": [
        " 0.957446808511\n",
        "recall (tp/p):"
       ]
      },
      {
       "output_type": "stream",
       "stream": "stdout",
       "text": [
        " 0.971223021583\n",
        "f1:"
       ]
      },
      {
       "output_type": "stream",
       "stream": "stdout",
       "text": [
        " 0.964285714286\n"
       ]
      }
     ],
     "prompt_number": 41
    },
    {
     "cell_type": "code",
     "collapsed": false,
     "input": [
      "rf_full.feature_importances_"
     ],
     "language": "python",
     "metadata": {},
     "outputs": [
      {
       "metadata": {},
       "output_type": "pyout",
       "prompt_number": 42,
       "text": [
        "array([ 0.        ,  0.00480659,  0.01456147,  0.        ,  0.00103122,\n",
        "        0.00686544,  0.00487725,  0.01705056,  0.00655475,  0.0048332 ,\n",
        "        0.03281489,  0.00961776,  0.0147581 ,  0.00986041,  0.00799506,\n",
        "        0.01701111,  0.00647682,  0.00320621,  0.00588048,  0.00153051,\n",
        "        0.0202208 ,  0.03106837,  0.00337053,  0.04329303,  0.00388926,\n",
        "        0.0328003 ,  0.0198374 ,  0.00299662,  0.00936507,  0.03825641,\n",
        "        0.14030702,  0.00441738,  0.01157989,  0.00442787,  0.00208017,\n",
        "        0.00392841,  0.02082818,  0.01055403,  0.11390856,  0.00861163,\n",
        "        0.00840362,  0.00648159,  0.05834635,  0.00725228,  0.00364829,\n",
        "        0.00400429,  0.00405298,  0.00783616,  0.01307655,  0.00472329,\n",
        "        0.00129547,  0.02082077,  0.00760032,  0.11070643,  0.00670364,\n",
        "        0.00663079,  0.02468083,  0.00582423,  0.        ,  0.0001516 ,\n",
        "        0.00071108,  0.0003393 ,  0.00123741])"
       ]
      }
     ],
     "prompt_number": 42
    },
    {
     "cell_type": "code",
     "collapsed": false,
     "input": [
      "feature_ranks = [feature_names[i] for i in np.argsort(rf_full.feature_importances_)[::-1]]"
     ],
     "language": "python",
     "metadata": {},
     "outputs": [],
     "prompt_number": 43
    },
    {
     "cell_type": "code",
     "collapsed": false,
     "input": [
      "feature_ranks"
     ],
     "language": "python",
     "metadata": {},
     "outputs": [
      {
       "metadata": {},
       "output_type": "pyout",
       "prompt_number": 44,
       "text": [
        "['hob',\n",
        " 'per',\n",
        " 'usgpct',\n",
        " 'pts',\n",
        " 'fic',\n",
        " 'high_game',\n",
        " 'dbl_dbl',\n",
        " 'fta',\n",
        " 'fgm',\n",
        " 'ws',\n",
        " 'ortg',\n",
        " 'trbpct',\n",
        " 'fga',\n",
        " 'ftm',\n",
        " 'astpct',\n",
        " 'ediff',\n",
        " 'drbpct',\n",
        " '_40_pts',\n",
        " 'tov',\n",
        " 'l',\n",
        " 'ows',\n",
        " 'drtg',\n",
        " 'drb',\n",
        " 'gp',\n",
        " 'pf',\n",
        " 'ppr',\n",
        " 'dws',\n",
        " 'total_s_pct',\n",
        " 'tspct',\n",
        " 'reb',\n",
        " 'ast',\n",
        " 'w',\n",
        " 'win_pct',\n",
        " 'blk',\n",
        " 'pps',\n",
        " 'efgpct',\n",
        " 'fg3m',\n",
        " 'wt',\n",
        " 'ast_to',\n",
        " 'blkpct',\n",
        " '_20_reb',\n",
        " 'tovpct',\n",
        " 'min',\n",
        " 'ht',\n",
        " 'stlpct',\n",
        " 'stl_to',\n",
        " 'orbpct',\n",
        " 'ft_fga',\n",
        " 'stl',\n",
        " 'fgpct',\n",
        " 'fg3a',\n",
        " 'ftpct',\n",
        " 'orb',\n",
        " 'fg3pct',\n",
        " 'tpl_dbl',\n",
        " 'pos_SG',\n",
        " '_5_stl',\n",
        " 'pos_PG',\n",
        " 'pos_SF',\n",
        " 'pos_PF',\n",
        " 'pos_C',\n",
        " '_5_blk',\n",
        " '_20_ast']"
       ]
      }
     ],
     "prompt_number": 44
    },
    {
     "cell_type": "code",
     "collapsed": false,
     "input": [
      "feature_indices = np.arange(len(feature_names))\n",
      "fig = plt.figure(figsize=(16,10))\n",
      "ax = fig.add_axes([0, 0, 1, 1])\n",
      "ax.set_title(\"Feature Importance in Classifying Domestic vs Foreign CBA Players\")\n",
      "ax.barh(feature_indices, np.sort(rf_full.feature_importances_)[::-1], align=\"center\")\n",
      "ax.set_yticks(feature_indices)\n",
      "ax.set_yticklabels(feature_ranks)\n",
      "ax.autoscale()\n",
      "fig.show();"
     ],
     "language": "python",
     "metadata": {},
     "outputs": [
      {
       "metadata": {},
       "output_type": "display_data",
       "png": "[encoded data removed]",
       "text": [
        "<matplotlib.figure.Figure at 0x109d21a90>"
       ]
      }
     ],
     "prompt_number": 56
    },
    {
     "cell_type": "markdown",
     "metadata": {},
     "source": [
      "##Analysis\n",
      "\n",
      "Based on the strong precision/recall/accuracy performance of the logistic and random forest classifiers, it appears there are indeed features that can predict whether a player is domestic or foreign. \n",
      "\n",
      "Assuming the foreign players are indeed more talented and more impactful, the top results make intuitive sense.\n",
      "\n",
      "1. \"usgpct\" (Usage %) -- \n",
      "2. \"hob\" (Hands on buckets) -- \n",
      "3. \"per\" (Player Efficiency Rating) -- \n",
      "4. \"high_game\" (Most points scored in a game) -- \n",
      "5. \"fic\" (Floor Impact Counter) -- \n",
      "\n",
      "For a summary of the statistics, please reference the following:\n",
      "<http://basketball.realgm.com/info/glossary>\n",
      "\n",
      "It is also important to note that many of these top features are in fact calculated, rather than observed, statistics.\n",
      "\n",
      "~~However, during the feature selection process when PCA was used to address collinearity issues, the features were transformed and no longer provide insight into what differences separate domestic and non-domestic players.~~\n",
      "\n",
      "~~To investigate this further, I will revisit the feature selection process and attempt to manually select features using VIF (variable inflation factors) and the feature correlation matrix. I would have liked to avoid this method since it's not as easily systematic as the prior PCA/SVD, as well as being significantly influenced by domain knowledge which may not always be available in data science analyses.~~"
     ]
    },
    {
     "cell_type": "markdown",
     "metadata": {},
     "source": [
      "##Feature Analysis/Selection Part II\n",
      "\n",
      "####VIF & Correlation Matrix (Pearson Coefficients) on full feature set (\"x\" 64 features)"
     ]
    },
    {
     "cell_type": "code",
     "collapsed": false,
     "input": [
      "from statsmodels.stats.outliers_influence import variance_inflation_factor"
     ],
     "language": "python",
     "metadata": {},
     "outputs": [],
     "prompt_number": 46
    },
    {
     "cell_type": "code",
     "collapsed": false,
     "input": [
      "vif = [variance_inflation_factor(x_scaled, col) for col in xrange(x_scaled.shape[1])]"
     ],
     "language": "python",
     "metadata": {},
     "outputs": [],
     "prompt_number": 47
    },
    {
     "cell_type": "code",
     "collapsed": false,
     "input": [
      "zip(vif, feature_names)"
     ],
     "language": "python",
     "metadata": {},
     "outputs": [
      {
       "metadata": {},
       "output_type": "pyout",
       "prompt_number": 48,
       "text": [
        "[(nan, '_20_ast'),\n",
        " (2.3232646413884468, '_20_reb'),\n",
        " (3.099973924140988, '_40_pts'),\n",
        " (2.5583691874867571, '_5_blk'),\n",
        " (3.2826153029391079, '_5_stl'),\n",
        " (190036935.48370814, 'ast'),\n",
        " (8.2032827384218852, 'ast_to'),\n",
        " (17.978150577641646, 'astpct'),\n",
        " (19124656.985708512, 'blk'),\n",
        " (4.8911542003284083, 'blkpct'),\n",
        " (13.717477282514521, 'dbl_dbl'),\n",
        " (inf, 'drb'),\n",
        " (518.93282127926705, 'drbpct'),\n",
        " (21129.564180145786, 'drtg'),\n",
        " (21377.576159298682, 'dws'),\n",
        " (346061.19871661032, 'ediff'),\n",
        " (86.736913551758022, 'efgpct'),\n",
        " (74.464553355393164, 'fg3a'),\n",
        " (1069.3081439950811, 'fg3m'),\n",
        " (160256.93698674868, 'fg3pct'),\n",
        " (1904161358.7764828, 'fga'),\n",
        " (40434.534043811895, 'fgm'),\n",
        " (81245.066394499881, 'fgpct'),\n",
        " (3338961506.4996514, 'fic'),\n",
        " (11.081218981979251, 'ft_fga'),\n",
        " (73638132.87765573, 'fta'),\n",
        " (3730.3210419056595, 'ftm'),\n",
        " (228885.57379329094, 'ftpct'),\n",
        " (inf, 'gp'),\n",
        " (10.256000365408415, 'high_game'),\n",
        " (27.118818234214988, 'hob'),\n",
        " (7.9971082754363625, 'ht'),\n",
        " (inf, 'l'),\n",
        " (48.10307546446689, 'min'),\n",
        " (inf, 'orb'),\n",
        " (230.81040424653685, 'orbpct'),\n",
        " (287639.38165621378, 'ortg'),\n",
        " (83465.746619397309, 'ows'),\n",
        " (30.100700172182293, 'per'),\n",
        " (36924926.888011456, 'pf'),\n",
        " (10.560570393422465, 'ppr'),\n",
        " (76.475391471295495, 'pps'),\n",
        " (6519203798.0495596, 'pts'),\n",
        " (inf, 'reb'),\n",
        " (42019635.050169773, 'stl'),\n",
        " (4.1066018150601806, 'stl_to'),\n",
        " (4.7900846441743417, 'stlpct'),\n",
        " (724672.55940323207, 'total_s_pct'),\n",
        " (90452664.394567743, 'tov'),\n",
        " (2.7081295157277996, 'tovpct'),\n",
        " (1.689207276032876, 'tpl_dbl'),\n",
        " (1161.9775733693359, 'trbpct'),\n",
        " (65.065564699399644, 'tspct'),\n",
        " (13.404526175881928, 'usgpct'),\n",
        " (inf, 'w'),\n",
        " (4.1287363801882559, 'win_pct'),\n",
        " (155021.14855930192, 'ws'),\n",
        " (2.9694097757938884, 'wt'),\n",
        " (inf, 'pos_C'),\n",
        " (inf, 'pos_PF'),\n",
        " (inf, 'pos_PG'),\n",
        " (inf, 'pos_SF'),\n",
        " (inf, 'pos_SG')]"
       ]
      }
     ],
     "prompt_number": 48
    },
    {
     "cell_type": "code",
     "collapsed": false,
     "input": [
      "corr_matrix = pd.DataFrame(x_scaled, columns=feature_names).corr().abs()"
     ],
     "language": "python",
     "metadata": {},
     "outputs": [],
     "prompt_number": 49
    },
    {
     "cell_type": "code",
     "collapsed": false,
     "input": [
      "corr_top = corr_matrix.unstack().order(ascending=False)"
     ],
     "language": "python",
     "metadata": {},
     "outputs": [],
     "prompt_number": 50
    },
    {
     "cell_type": "code",
     "collapsed": false,
     "input": [
      "corr_top[corr_top != 1][:750:2]"
     ],
     "language": "python",
     "metadata": {},
     "outputs": [
      {
       "metadata": {},
       "output_type": "pyout",
       "prompt_number": 51,
       "text": [
        "pts    fgm       0.992658\n",
        "       fga       0.987447\n",
        "ftm    fta       0.987418\n",
        "reb    drb       0.985903\n",
        "fg3m   fg3a      0.984703\n",
        "fgm    fga       0.981999\n",
        "ortg   ediff     0.970763\n",
        "tspct  efgpct    0.960869\n",
        "fic    fgm       0.959132\n",
        "ws     ows       0.954628\n",
        "pts    fic       0.951468\n",
        "ws     fic       0.945673\n",
        "fgpct  efgpct    0.943900\n",
        "reb    orb       0.942665\n",
        "tspct  pps       0.936179\n",
        "...\n",
        "stlpct  stl       0.514828\n",
        "w       fga       0.511142\n",
        "        tov       0.511094\n",
        "wt      orbpct    0.510350\n",
        "ws      blk       0.508952\n",
        "ows     fg3a      0.506598\n",
        "fic     fg3m      0.505807\n",
        "tov     l         0.505148\n",
        "gp      fta       0.505010\n",
        "fic     drbpct    0.504449\n",
        "ows     ediff     0.503364\n",
        "fic     fg3a      0.501707\n",
        "orb     gp        0.500524\n",
        "ortg    hob       0.500017\n",
        "ws      ortg      0.498958\n",
        "Length: 375, dtype: float64"
       ]
      }
     ],
     "prompt_number": 51
    },
    {
     "cell_type": "markdown",
     "metadata": {},
     "source": [
      "####Manual Feature Selection (stats_pruned)"
     ]
    },
    {
     "cell_type": "code",
     "collapsed": false,
     "input": [
      "#no values/information in this feature\n",
      "stats_pruned = stats_final.drop('_20_ast', axis=1)"
     ],
     "language": "python",
     "metadata": {},
     "outputs": [],
     "prompt_number": 52
    },
    {
     "cell_type": "code",
     "collapsed": false,
     "input": [
      "# y = stats_pruned.pop('nationality').values\n",
      "x = stats_pruned.values"
     ],
     "language": "python",
     "metadata": {},
     "outputs": [],
     "prompt_number": 53
    },
    {
     "cell_type": "code",
     "collapsed": false,
     "input": [
      "scaler = StandardScaler()\n",
      "x_pruned = scaler.fit_transform(x)"
     ],
     "language": "python",
     "metadata": {},
     "outputs": [],
     "prompt_number": 54
    },
    {
     "cell_type": "code",
     "collapsed": false,
     "input": [
      "feature_names_pruned = stats_pruned.columns.values"
     ],
     "language": "python",
     "metadata": {},
     "outputs": [],
     "prompt_number": 55
    },
    {
     "cell_type": "code",
     "collapsed": false,
     "input": [],
     "language": "python",
     "metadata": {},
     "outputs": [],
     "prompt_number": 55
    }
   ],
   "metadata": {}
  }
 ]
}