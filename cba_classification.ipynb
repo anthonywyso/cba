{
 "metadata": {
  "name": ""
 },
 "nbformat": 3,
 "nbformat_minor": 0,
 "worksheets": [
  {
   "cells": [
    {
     "cell_type": "markdown",
     "metadata": {},
     "source": [
      "#CBA Classification Analysis"
     ]
    },
    {
     "cell_type": "markdown",
     "metadata": {},
     "source": [
      "##Motivation/Background\n",
      "\n",
      "The game of basketball is growing in popularity around the world, and China is a main driver in that. In fact, they have two professional leagues, a major and a minor that employ about 400 total players. Their main, major league is the Chinese Basketball Association (CBA), which is currently comprised of 18 teams, a number that has been growing in recent years to accomodate the surge in demand.\n",
      "\n",
      "This league is becoming increasingly relevant to the overall development of global talent, as players from the United States are now going over and taking advantage of the opportunities for playing time and earning power. With more and more talented, foreign players combining with the improving domestic scene, the CBA is primed for a significant increase in business/revenue as talent attracts spending and spectators. Additionally, the CBA's lack of a players' salary cap further magnifies the earning potential for its players, allowing the consumer market to fully dictate their value.\n",
      "\n",
      "With this growing collection of quality players, I believe it's important to analyze and understand this league more to identify those who could potentially be valuable in the NBA."
     ]
    },
    {
     "cell_type": "markdown",
     "metadata": {},
     "source": [
      "##Import and process data\n",
      "\n",
      "Import data, try to classify players as foreign or domestic based on attributes/on-court performance  \n",
      "Y = pop off ['nationality']  \n",
      "X = everything other than ['sys_id', 'season', 'player', 'team', 'birth_city', 'draft_status'] from info  \n",
      "\n",
      "Keep all calculated columns for now, address during feature selection  \n",
      "Classification -- kfolds cross validate modeling with logistic regression, random forest, SVC, adaboost, gradientboost  \n",
      "Clustering -- knn  \n",
      "\n",
      "Build ROC curve  \n",
      "\n",
      "Preliminary dimensions:  \n",
      "stats.shape = 774 x 64  \n",
      "stats_final.shape = 708 x 64  \n",
      "\n",
      "\n",
      "Found data integrity issues:\n",
      "\n",
      "1. 'Wei Liu' player_season_advanced, player_season_misc -- FIXED, dropped inconsistencies\n",
      "2. Issues from player_season_info -- FIXED, updated  \n",
      "    \"Xiaowei Zhang\",\"2012\" -- traded b/w SDS & GFD  \n",
      "    \"Tal Co\",\"2012\" -- absent  \n",
      "    \"YoBo Xia\",\"2012\" -- absent  \n",
      "    \"Mike Efevberha\",\"2014\" -- absent  \n",
      "    \"Jerel McNeal\",\"2014\" -- listed under wrong team  \n",
      "3. Missing ht/wt  \n",
      "4. 33 players missing nationality from 2014 -- FIXED, dropped  "
     ]
    },
    {
     "cell_type": "code",
     "collapsed": false,
     "input": [
      "%pylab inline\n",
      "import pandas as pd\n",
      "import sqlite3 as sql"
     ],
     "language": "python",
     "metadata": {},
     "outputs": [
      {
       "output_type": "stream",
       "stream": "stdout",
       "text": [
        "Populating the interactive namespace from numpy and matplotlib\n"
       ]
      }
     ],
     "prompt_number": 1
    },
    {
     "cell_type": "code",
     "collapsed": false,
     "input": [
      "db_read = 'data/cba.sqlite'"
     ],
     "language": "python",
     "metadata": {},
     "outputs": [],
     "prompt_number": 2
    },
    {
     "cell_type": "code",
     "collapsed": false,
     "input": [
      "sql_query = '''SELECT tot.*, adv.*, misc.*, info.ht, info.wt, info.nationality\n",
      "FROM team_info_realgm tinfo\n",
      "JOIN player_season_totals tot\n",
      "ON tinfo.team_id = tot.team\n",
      "JOIN player_season_advanced adv\n",
      "ON tot.player = adv.player AND tot.season = adv.season AND tinfo.team_id = adv.team\n",
      "JOIN player_season_misc misc\n",
      "ON tot.player = misc.player AND tot.season = misc.season AND tinfo.team_id = misc.team\n",
      "JOIN player_season_info info\n",
      "ON tot.player = info.player AND tot.season = info.season  AND tinfo.team = info.team'''\n",
      "\n",
      "with sql.connect(db_read) as con:\n",
      "    df = pd.read_sql(sql_query, con)"
     ],
     "language": "python",
     "metadata": {},
     "outputs": [],
     "prompt_number": 3
    },
    {
     "cell_type": "code",
     "collapsed": false,
     "input": [
      "stats = df.T.drop_duplicates().T"
     ],
     "language": "python",
     "metadata": {},
     "outputs": [],
     "prompt_number": 4
    },
    {
     "cell_type": "code",
     "collapsed": false,
     "input": [
      "stats.shape"
     ],
     "language": "python",
     "metadata": {},
     "outputs": [
      {
       "metadata": {},
       "output_type": "pyout",
       "prompt_number": 5,
       "text": [
        "(774, 64)"
       ]
      }
     ],
     "prompt_number": 5
    },
    {
     "cell_type": "code",
     "collapsed": false,
     "input": [
      "cols_retained = stats.columns - ['sys_id', 'season', 'player', 'team', 'birth_city', 'draft_status']\n",
      "stats = stats[cols_retained]"
     ],
     "language": "python",
     "metadata": {},
     "outputs": [],
     "prompt_number": 6
    },
    {
     "cell_type": "markdown",
     "metadata": {},
     "source": [
      "####Convert ht to inches"
     ]
    },
    {
     "cell_type": "code",
     "collapsed": false,
     "input": [
      "ht_inches = []\n",
      "for height in stats['ht']:\n",
      "    h = height.split('-')\n",
      "    if h[0] and h[1]:\n",
      "        ht = 12.0 * float(h[0]) + 1.0 * float(h[1])\n",
      "        ht_inches.append(ht)\n",
      "    else:\n",
      "        ht_inches.append('')\n",
      "stats['ht'] = ht_inches"
     ],
     "language": "python",
     "metadata": {},
     "outputs": [],
     "prompt_number": 7
    },
    {
     "cell_type": "code",
     "collapsed": false,
     "input": [
      "stats = stats.convert_objects(convert_numeric=True)"
     ],
     "language": "python",
     "metadata": {},
     "outputs": [],
     "prompt_number": 8
    },
    {
     "cell_type": "markdown",
     "metadata": {},
     "source": [
      "####Process missing 'wt' & 'ht'"
     ]
    },
    {
     "cell_type": "code",
     "collapsed": false,
     "input": [
      "stats = stats.fillna(stats.mean()[['ht' , 'wt']])"
     ],
     "language": "python",
     "metadata": {},
     "outputs": [],
     "prompt_number": 9
    },
    {
     "cell_type": "code",
     "collapsed": false,
     "input": [
      "[(type(stats[col]), col) for col in stats.columns]"
     ],
     "language": "python",
     "metadata": {},
     "outputs": [
      {
       "metadata": {},
       "output_type": "pyout",
       "prompt_number": 10,
       "text": [
        "[(pandas.core.series.Series, '_20_ast'),\n",
        " (pandas.core.series.Series, '_20_reb'),\n",
        " (pandas.core.series.Series, '_40_pts'),\n",
        " (pandas.core.series.Series, '_5_blk'),\n",
        " (pandas.core.series.Series, '_5_stl'),\n",
        " (pandas.core.series.Series, 'ast'),\n",
        " (pandas.core.series.Series, 'ast_to'),\n",
        " (pandas.core.series.Series, 'astpct'),\n",
        " (pandas.core.series.Series, 'blk'),\n",
        " (pandas.core.series.Series, 'blkpct'),\n",
        " (pandas.core.series.Series, 'dbl_dbl'),\n",
        " (pandas.core.series.Series, 'drb'),\n",
        " (pandas.core.series.Series, 'drbpct'),\n",
        " (pandas.core.series.Series, 'drtg'),\n",
        " (pandas.core.series.Series, 'dws'),\n",
        " (pandas.core.series.Series, 'ediff'),\n",
        " (pandas.core.series.Series, 'efgpct'),\n",
        " (pandas.core.series.Series, 'fg3a'),\n",
        " (pandas.core.series.Series, 'fg3m'),\n",
        " (pandas.core.series.Series, 'fg3pct'),\n",
        " (pandas.core.series.Series, 'fga'),\n",
        " (pandas.core.series.Series, 'fgm'),\n",
        " (pandas.core.series.Series, 'fgpct'),\n",
        " (pandas.core.series.Series, 'fic'),\n",
        " (pandas.core.series.Series, 'ft_fga'),\n",
        " (pandas.core.series.Series, 'fta'),\n",
        " (pandas.core.series.Series, 'ftm'),\n",
        " (pandas.core.series.Series, 'ftpct'),\n",
        " (pandas.core.series.Series, 'gp'),\n",
        " (pandas.core.series.Series, 'high_game'),\n",
        " (pandas.core.series.Series, 'hob'),\n",
        " (pandas.core.series.Series, 'ht'),\n",
        " (pandas.core.series.Series, 'l'),\n",
        " (pandas.core.series.Series, 'min'),\n",
        " (pandas.core.series.Series, 'nationality'),\n",
        " (pandas.core.series.Series, 'orb'),\n",
        " (pandas.core.series.Series, 'orbpct'),\n",
        " (pandas.core.series.Series, 'ortg'),\n",
        " (pandas.core.series.Series, 'ows'),\n",
        " (pandas.core.series.Series, 'per'),\n",
        " (pandas.core.series.Series, 'pf'),\n",
        " (pandas.core.series.Series, 'pos'),\n",
        " (pandas.core.series.Series, 'ppr'),\n",
        " (pandas.core.series.Series, 'pps'),\n",
        " (pandas.core.series.Series, 'pts'),\n",
        " (pandas.core.series.Series, 'reb'),\n",
        " (pandas.core.series.Series, 'stl'),\n",
        " (pandas.core.series.Series, 'stl_to'),\n",
        " (pandas.core.series.Series, 'stlpct'),\n",
        " (pandas.core.series.Series, 'total_s_pct'),\n",
        " (pandas.core.series.Series, 'tov'),\n",
        " (pandas.core.series.Series, 'tovpct'),\n",
        " (pandas.core.series.Series, 'tpl_dbl'),\n",
        " (pandas.core.series.Series, 'trbpct'),\n",
        " (pandas.core.series.Series, 'tspct'),\n",
        " (pandas.core.series.Series, 'usgpct'),\n",
        " (pandas.core.series.Series, 'w'),\n",
        " (pandas.core.series.Series, 'win_pct'),\n",
        " (pandas.core.series.Series, 'ws'),\n",
        " (pandas.core.series.Series, 'wt')]"
       ]
      }
     ],
     "prompt_number": 10
    },
    {
     "cell_type": "code",
     "collapsed": false,
     "input": [
      "[(stats[col].dtype, col) for col in stats.columns]"
     ],
     "language": "python",
     "metadata": {},
     "outputs": [
      {
       "metadata": {},
       "output_type": "pyout",
       "prompt_number": 11,
       "text": [
        "[(dtype('float64'), '_20_ast'),\n",
        " (dtype('float64'), '_20_reb'),\n",
        " (dtype('float64'), '_40_pts'),\n",
        " (dtype('float64'), '_5_blk'),\n",
        " (dtype('float64'), '_5_stl'),\n",
        " (dtype('int64'), 'ast'),\n",
        " (dtype('float64'), 'ast_to'),\n",
        " (dtype('float64'), 'astpct'),\n",
        " (dtype('int64'), 'blk'),\n",
        " (dtype('float64'), 'blkpct'),\n",
        " (dtype('float64'), 'dbl_dbl'),\n",
        " (dtype('int64'), 'drb'),\n",
        " (dtype('float64'), 'drbpct'),\n",
        " (dtype('float64'), 'drtg'),\n",
        " (dtype('float64'), 'dws'),\n",
        " (dtype('float64'), 'ediff'),\n",
        " (dtype('float64'), 'efgpct'),\n",
        " (dtype('int64'), 'fg3a'),\n",
        " (dtype('int64'), 'fg3m'),\n",
        " (dtype('float64'), 'fg3pct'),\n",
        " (dtype('int64'), 'fga'),\n",
        " (dtype('int64'), 'fgm'),\n",
        " (dtype('float64'), 'fgpct'),\n",
        " (dtype('float64'), 'fic'),\n",
        " (dtype('float64'), 'ft_fga'),\n",
        " (dtype('int64'), 'fta'),\n",
        " (dtype('int64'), 'ftm'),\n",
        " (dtype('float64'), 'ftpct'),\n",
        " (dtype('int64'), 'gp'),\n",
        " (dtype('float64'), 'high_game'),\n",
        " (dtype('float64'), 'hob'),\n",
        " (dtype('float64'), 'ht'),\n",
        " (dtype('float64'), 'l'),\n",
        " (dtype('float64'), 'min'),\n",
        " (dtype('O'), 'nationality'),\n",
        " (dtype('int64'), 'orb'),\n",
        " (dtype('float64'), 'orbpct'),\n",
        " (dtype('float64'), 'ortg'),\n",
        " (dtype('float64'), 'ows'),\n",
        " (dtype('float64'), 'per'),\n",
        " (dtype('int64'), 'pf'),\n",
        " (dtype('O'), 'pos'),\n",
        " (dtype('float64'), 'ppr'),\n",
        " (dtype('float64'), 'pps'),\n",
        " (dtype('int64'), 'pts'),\n",
        " (dtype('int64'), 'reb'),\n",
        " (dtype('int64'), 'stl'),\n",
        " (dtype('float64'), 'stl_to'),\n",
        " (dtype('float64'), 'stlpct'),\n",
        " (dtype('float64'), 'total_s_pct'),\n",
        " (dtype('int64'), 'tov'),\n",
        " (dtype('float64'), 'tovpct'),\n",
        " (dtype('float64'), 'tpl_dbl'),\n",
        " (dtype('float64'), 'trbpct'),\n",
        " (dtype('float64'), 'tspct'),\n",
        " (dtype('float64'), 'usgpct'),\n",
        " (dtype('float64'), 'w'),\n",
        " (dtype('float64'), 'win_pct'),\n",
        " (dtype('float64'), 'ws'),\n",
        " (dtype('float64'), 'wt')]"
       ]
      }
     ],
     "prompt_number": 11
    },
    {
     "cell_type": "code",
     "collapsed": false,
     "input": [
      "[(stats[col].isnull().sum(), col) for col in stats.columns]"
     ],
     "language": "python",
     "metadata": {},
     "outputs": [
      {
       "metadata": {},
       "output_type": "pyout",
       "prompt_number": 12,
       "text": [
        "[(1, '_20_ast'),\n",
        " (1, '_20_reb'),\n",
        " (1, '_40_pts'),\n",
        " (1, '_5_blk'),\n",
        " (1, '_5_stl'),\n",
        " (0, 'ast'),\n",
        " (1, 'ast_to'),\n",
        " (1, 'astpct'),\n",
        " (0, 'blk'),\n",
        " (1, 'blkpct'),\n",
        " (1, 'dbl_dbl'),\n",
        " (0, 'drb'),\n",
        " (1, 'drbpct'),\n",
        " (1, 'drtg'),\n",
        " (1, 'dws'),\n",
        " (1, 'ediff'),\n",
        " (1, 'efgpct'),\n",
        " (0, 'fg3a'),\n",
        " (0, 'fg3m'),\n",
        " (0, 'fg3pct'),\n",
        " (0, 'fga'),\n",
        " (0, 'fgm'),\n",
        " (0, 'fgpct'),\n",
        " (1, 'fic'),\n",
        " (1, 'ft_fga'),\n",
        " (0, 'fta'),\n",
        " (0, 'ftm'),\n",
        " (0, 'ftpct'),\n",
        " (0, 'gp'),\n",
        " (1, 'high_game'),\n",
        " (1, 'hob'),\n",
        " (0, 'ht'),\n",
        " (1, 'l'),\n",
        " (0, 'min'),\n",
        " (0, 'nationality'),\n",
        " (0, 'orb'),\n",
        " (1, 'orbpct'),\n",
        " (1, 'ortg'),\n",
        " (1, 'ows'),\n",
        " (1, 'per'),\n",
        " (0, 'pf'),\n",
        " (51, 'pos'),\n",
        " (1, 'ppr'),\n",
        " (1, 'pps'),\n",
        " (0, 'pts'),\n",
        " (0, 'reb'),\n",
        " (0, 'stl'),\n",
        " (1, 'stl_to'),\n",
        " (1, 'stlpct'),\n",
        " (1, 'total_s_pct'),\n",
        " (0, 'tov'),\n",
        " (1, 'tovpct'),\n",
        " (1, 'tpl_dbl'),\n",
        " (1, 'trbpct'),\n",
        " (1, 'tspct'),\n",
        " (1, 'usgpct'),\n",
        " (1, 'w'),\n",
        " (1, 'win_pct'),\n",
        " (1, 'ws'),\n",
        " (0, 'wt')]"
       ]
      }
     ],
     "prompt_number": 12
    },
    {
     "cell_type": "code",
     "collapsed": false,
     "input": [
      "stats.shape"
     ],
     "language": "python",
     "metadata": {},
     "outputs": [
      {
       "metadata": {},
       "output_type": "pyout",
       "prompt_number": 13,
       "text": [
        "(774, 60)"
       ]
      }
     ],
     "prompt_number": 13
    },
    {
     "cell_type": "markdown",
     "metadata": {},
     "source": [
      "####Process 'nationality' column"
     ]
    },
    {
     "cell_type": "code",
     "collapsed": false,
     "input": [
      "stats['nationality'].value_counts()"
     ],
     "language": "python",
     "metadata": {},
     "outputs": [
      {
       "metadata": {},
       "output_type": "pyout",
       "prompt_number": 14,
       "text": [
        "China                               573\n",
        "United States                       126\n",
        "-                                    33\n",
        "Taiwan                               13\n",
        "Jordan                                7\n",
        "Syria                                 3\n",
        "Puerto Rico                           3\n",
        "Iran                                  3\n",
        "Palestine                             2\n",
        "Ivory Coast                           2\n",
        "Democratic Republic of the Congo      2\n",
        "Netherlands                           1\n",
        "Lebanon                               1\n",
        "Senegal                               1\n",
        "Australia                             1\n",
        "Nigeria                               1\n",
        "France                                1\n",
        "Panama                                1\n",
        "dtype: int64"
       ]
      }
     ],
     "prompt_number": 14
    },
    {
     "cell_type": "code",
     "collapsed": false,
     "input": [
      "stats['nationality'] = stats['nationality'].replace(to_replace='-', value=np.nan)"
     ],
     "language": "python",
     "metadata": {},
     "outputs": [],
     "prompt_number": 15
    },
    {
     "cell_type": "code",
     "collapsed": false,
     "input": [
      "stats = stats.dropna(subset=['nationality'])"
     ],
     "language": "python",
     "metadata": {},
     "outputs": [],
     "prompt_number": 16
    },
    {
     "cell_type": "code",
     "collapsed": false,
     "input": [
      "#domestic for China, Taiwan, Hong Kong, non-domestic for anything else\n",
      "#1 for domestic, 0 for foreign\n",
      "stats['nationality'] = stats['nationality'].apply(lambda x: 1 if x in ['China', 'Taiwan', 'Hong Kong'] else 0)"
     ],
     "language": "python",
     "metadata": {},
     "outputs": [],
     "prompt_number": 17
    },
    {
     "cell_type": "markdown",
     "metadata": {},
     "source": [
      "####stats with no pos column"
     ]
    },
    {
     "cell_type": "code",
     "collapsed": false,
     "input": [
      "stats_nopos = stats.drop(['pos'], axis=1)"
     ],
     "language": "python",
     "metadata": {},
     "outputs": [],
     "prompt_number": 18
    },
    {
     "cell_type": "code",
     "collapsed": false,
     "input": [
      "stats_nopos = stats_nopos.dropna()"
     ],
     "language": "python",
     "metadata": {},
     "outputs": [],
     "prompt_number": 19
    },
    {
     "cell_type": "markdown",
     "metadata": {},
     "source": [
      "####stats dropping the rest with NaN values"
     ]
    },
    {
     "cell_type": "code",
     "collapsed": false,
     "input": [
      "stats = stats.dropna()"
     ],
     "language": "python",
     "metadata": {},
     "outputs": [],
     "prompt_number": 20
    },
    {
     "cell_type": "markdown",
     "metadata": {},
     "source": [
      "####Process positional values... get dummies!"
     ]
    },
    {
     "cell_type": "code",
     "collapsed": false,
     "input": [
      "pos_binarized = pd.get_dummies(stats['pos'], prefix='pos')"
     ],
     "language": "python",
     "metadata": {},
     "outputs": [],
     "prompt_number": 21
    },
    {
     "cell_type": "code",
     "collapsed": false,
     "input": [
      "stats_final = pd.concat([stats, pos_binarized], axis=1).drop(['pos'], axis=1)"
     ],
     "language": "python",
     "metadata": {},
     "outputs": [],
     "prompt_number": 22
    },
    {
     "cell_type": "markdown",
     "metadata": {},
     "source": [
      "##Feature Selection\n",
      "Reduce collinearity  \n",
      "PCA -- Downside is that it removes all interpretability of original features  "
     ]
    },
    {
     "cell_type": "code",
     "collapsed": false,
     "input": [
      "from sklearn.preprocessing import StandardScaler\n",
      "from sklearn.decomposition import PCA"
     ],
     "language": "python",
     "metadata": {},
     "outputs": [],
     "prompt_number": 23
    },
    {
     "cell_type": "code",
     "collapsed": false,
     "input": [
      "y = stats_final.pop('nationality').values\n",
      "x = stats_final.values"
     ],
     "language": "python",
     "metadata": {},
     "outputs": [],
     "prompt_number": 24
    },
    {
     "cell_type": "code",
     "collapsed": false,
     "input": [
      "scaler = StandardScaler()\n",
      "x_scaled = scaler.fit_transform(x)"
     ],
     "language": "python",
     "metadata": {},
     "outputs": [],
     "prompt_number": 25
    },
    {
     "cell_type": "code",
     "collapsed": false,
     "input": [
      "def show_exp_var(decomper, data):\n",
      "    var_exp = []\n",
      "    for n in xrange(1, 63+1):\n",
      "        dc = decomper(n_components=n)\n",
      "        dc.fit(data)\n",
      "        var_exp.append(dc.explained_variance_.sum())\n",
      "    plt.figure(figsize=(16,10))\n",
      "    plt.grid(b=True, which='major', color='black', linestyle='-')\n",
      "    plt.plot(np.array(var_exp))\n",
      "    plt.tight_layout()"
     ],
     "language": "python",
     "metadata": {},
     "outputs": [],
     "prompt_number": 26
    },
    {
     "cell_type": "code",
     "collapsed": false,
     "input": [
      "show_exp_var(PCA, x_scaled)"
     ],
     "language": "python",
     "metadata": {},
     "outputs": [
      {
       "metadata": {},
       "output_type": "display_data",
       "png": "[encoded data removed]",
       "text": [
        "<matplotlib.figure.Figure at 0x10778b290>"
       ]
      }
     ],
     "prompt_number": 27
    },
    {
     "cell_type": "code",
     "collapsed": false,
     "input": [
      "pca = PCA(n_components=30)\n",
      "x_reduced = pca.fit_transform(x_scaled)"
     ],
     "language": "python",
     "metadata": {},
     "outputs": [],
     "prompt_number": 28
    },
    {
     "cell_type": "code",
     "collapsed": false,
     "input": [
      "x_reduced.shape"
     ],
     "language": "python",
     "metadata": {},
     "outputs": [
      {
       "metadata": {},
       "output_type": "pyout",
       "prompt_number": 29,
       "text": [
        "(708, 30)"
       ]
      }
     ],
     "prompt_number": 29
    },
    {
     "cell_type": "markdown",
     "metadata": {},
     "source": [
      "##Modeling!!"
     ]
    },
    {
     "cell_type": "code",
     "collapsed": false,
     "input": [
      "from sklearn.cross_validation import train_test_split\n",
      "from sklearn.linear_model import LogisticRegression\n",
      "from sklearn.ensemble import RandomForestClassifier, GradientBoostingClassifier\n",
      "from sklearn.metrics import confusion_matrix, recall_score, precision_score, f1_score, roc_curve, roc_auc_score\n",
      "from sklearn.grid_search import GridSearchCV"
     ],
     "language": "python",
     "metadata": {},
     "outputs": [],
     "prompt_number": 30
    },
    {
     "cell_type": "code",
     "collapsed": false,
     "input": [
      "xtrain, xtest, ytrain, ytest = train_test_split(x_reduced, y, random_state=13)"
     ],
     "language": "python",
     "metadata": {},
     "outputs": [],
     "prompt_number": 31
    },
    {
     "cell_type": "code",
     "collapsed": false,
     "input": [
      "def get_scores(x, y, model):\n",
      "    print \"model:\", model\n",
      "    print \"cf matrix:\\n\", confusion_matrix(y, model.predict(x))\n",
      "    print \"accuracy:\", model.score(x, y)\n",
      "    print \"precision (tp/tp+fp):\", precision_score(y, model.predict(x))\n",
      "    print \"recall (tp/p):\", recall_score(y, model.predict(x))\n",
      "    print \"f1:\", f1_score(y, model.predict(x))"
     ],
     "language": "python",
     "metadata": {},
     "outputs": [],
     "prompt_number": 32
    },
    {
     "cell_type": "markdown",
     "metadata": {},
     "source": [
      "####Basic Logistic Classification"
     ]
    },
    {
     "cell_type": "code",
     "collapsed": false,
     "input": [
      "lg = LogisticRegression()\n",
      "lg.fit(xtrain, ytrain)\n",
      "get_scores(xtest, ytest, lg)"
     ],
     "language": "python",
     "metadata": {},
     "outputs": [
      {
       "output_type": "stream",
       "stream": "stdout",
       "text": [
        "model: LogisticRegression(C=1.0, class_weight=None, dual=False, fit_intercept=True,\n",
        "          intercept_scaling=1, penalty=l2, random_state=None, tol=0.0001)\n",
        "cf matrix:\n",
        "[[ 32   6]\n",
        " [  3 136]]\n",
        "accuracy: 0.949152542373\n",
        "precision (tp/tp+fp): 0.957746478873\n",
        "recall (tp/p): 0.978417266187\n",
        "f1: 0.967971530249\n"
       ]
      }
     ],
     "prompt_number": 33
    },
    {
     "cell_type": "markdown",
     "metadata": {},
     "source": [
      "####Random Forest Classification w/ Grid Search for Optimal Parameters"
     ]
    },
    {
     "cell_type": "code",
     "collapsed": false,
     "input": [
      "rf = RandomForestClassifier(n_jobs=-1)\n",
      "pg = {'n_estimators': np.arange(10, 51, 10), 'criterion': ['gini', 'entropy']}\n",
      "gs = GridSearchCV(rf, param_grid=pg, scoring='f1')\n",
      "gs.fit(x_reduced, y)"
     ],
     "language": "python",
     "metadata": {},
     "outputs": [
      {
       "metadata": {},
       "output_type": "pyout",
       "prompt_number": 34,
       "text": [
        "GridSearchCV(cv=None,\n",
        "       estimator=RandomForestClassifier(bootstrap=True, compute_importances=None,\n",
        "            criterion='gini', max_depth=None, max_features='auto',\n",
        "            min_density=None, min_samples_leaf=1, min_samples_split=2,\n",
        "            n_estimators=10, n_jobs=-1, oob_score=False, random_state=None,\n",
        "            verbose=0),\n",
        "       fit_params={}, iid=True, loss_func=None, n_jobs=1,\n",
        "       param_grid={'n_estimators': array([10, 20, 30, 40, 50]), 'criterion': ['gini', 'entropy']},\n",
        "       pre_dispatch='2*n_jobs', refit=True, score_func=None, scoring='f1',\n",
        "       verbose=0)"
       ]
      }
     ],
     "prompt_number": 34
    },
    {
     "cell_type": "code",
     "collapsed": false,
     "input": [
      "gs.grid_scores_"
     ],
     "language": "python",
     "metadata": {},
     "outputs": [
      {
       "metadata": {},
       "output_type": "pyout",
       "prompt_number": 35,
       "text": [
        "[mean: 0.94168, std: 0.01654, params: {'n_estimators': 10, 'criterion': 'gini'},\n",
        " mean: 0.94778, std: 0.00272, params: {'n_estimators': 20, 'criterion': 'gini'},\n",
        " mean: 0.95306, std: 0.00842, params: {'n_estimators': 30, 'criterion': 'gini'},\n",
        " mean: 0.95268, std: 0.00618, params: {'n_estimators': 40, 'criterion': 'gini'},\n",
        " mean: 0.96087, std: 0.00781, params: {'n_estimators': 50, 'criterion': 'gini'},\n",
        " mean: 0.95593, std: 0.00271, params: {'n_estimators': 10, 'criterion': 'entropy'},\n",
        " mean: 0.95200, std: 0.00531, params: {'n_estimators': 20, 'criterion': 'entropy'},\n",
        " mean: 0.96430, std: 0.00821, params: {'n_estimators': 30, 'criterion': 'entropy'},\n",
        " mean: 0.95469, std: 0.00631, params: {'n_estimators': 40, 'criterion': 'entropy'},\n",
        " mean: 0.96153, std: 0.00521, params: {'n_estimators': 50, 'criterion': 'entropy'}]"
       ]
      }
     ],
     "prompt_number": 35
    },
    {
     "cell_type": "code",
     "collapsed": false,
     "input": [
      "gs.best_params_"
     ],
     "language": "python",
     "metadata": {},
     "outputs": [
      {
       "metadata": {},
       "output_type": "pyout",
       "prompt_number": 36,
       "text": [
        "{'criterion': 'entropy', 'n_estimators': 30}"
       ]
      }
     ],
     "prompt_number": 36
    },
    {
     "cell_type": "code",
     "collapsed": false,
     "input": [
      "rf = RandomForestClassifier(n_jobs=-1, n_estimators=50, criterion='gini')\n",
      "rf.fit(xtrain, ytrain)\n",
      "get_scores(xtest, ytest, rf)"
     ],
     "language": "python",
     "metadata": {},
     "outputs": [
      {
       "output_type": "stream",
       "stream": "stdout",
       "text": [
        "model: RandomForestClassifier(bootstrap=True, compute_importances=None,\n",
        "            criterion=gini, max_depth=None, max_features=auto,\n",
        "            min_density=None, min_samples_leaf=1, min_samples_split=2,\n",
        "            n_estimators=50, n_jobs=-1, oob_score=False, random_state=None,\n",
        "            verbose=0)\n",
        "cf matrix:\n"
       ]
      },
      {
       "output_type": "stream",
       "stream": "stdout",
       "text": [
        "[[ 31   7]\n",
        " [  4 135]]\n",
        "accuracy:"
       ]
      },
      {
       "output_type": "stream",
       "stream": "stdout",
       "text": [
        " 0.937853107345\n",
        "precision (tp/tp+fp):"
       ]
      },
      {
       "output_type": "stream",
       "stream": "stdout",
       "text": [
        " 0.950704225352\n",
        "recall (tp/p):"
       ]
      },
      {
       "output_type": "stream",
       "stream": "stdout",
       "text": [
        " 0.971223021583\n",
        "f1:"
       ]
      },
      {
       "output_type": "stream",
       "stream": "stdout",
       "text": [
        " 0.960854092527\n"
       ]
      }
     ],
     "prompt_number": 37
    },
    {
     "cell_type": "code",
     "collapsed": false,
     "input": [
      "rf.classes_"
     ],
     "language": "python",
     "metadata": {},
     "outputs": [
      {
       "metadata": {},
       "output_type": "pyout",
       "prompt_number": 38,
       "text": [
        "array([0, 1])"
       ]
      }
     ],
     "prompt_number": 38
    },
    {
     "cell_type": "markdown",
     "metadata": {},
     "source": [
      "##Analysis\n",
      "\n",
      "Based on the strong precision/recall/accuracy performance of the logistic and random forest classifiers, it appears there are indeed features that can predict whether a player is domestic or foreign. However, during the feature selection process when PCA was used to address collinearity issues, the features were transformed and no longer provide insight into what differences separate domestic and non-domestic players.\n",
      "\n",
      "To investigate this further, I will revisit the feature selection process and attempt to manually select features using VIF (variable inflation factors) and the feature correlation matrix. I would have liked to avoid this method since it's not as easily systematic as the prior PCA/SVD, as well as being significantly influenced by domain knowledge which may not always be available in data science analyses."
     ]
    },
    {
     "cell_type": "markdown",
     "metadata": {},
     "source": [
      "##Feature Selection Part II\n",
      "\n",
      "VIF & Correlation Matrix"
     ]
    },
    {
     "cell_type": "code",
     "collapsed": false,
     "input": [
      "from statsmodels.stats.outliers_influence import variance_inflation_factor"
     ],
     "language": "python",
     "metadata": {},
     "outputs": [],
     "prompt_number": 39
    },
    {
     "cell_type": "code",
     "collapsed": false,
     "input": [
      "stats_pruned = stats_final.drop('_20_ast', axis=1)"
     ],
     "language": "python",
     "metadata": {},
     "outputs": [],
     "prompt_number": 40
    },
    {
     "cell_type": "code",
     "collapsed": false,
     "input": [
      "# y = stats_pruned.pop('nationality').values\n",
      "x = stats_pruned.values"
     ],
     "language": "python",
     "metadata": {},
     "outputs": [],
     "prompt_number": 41
    },
    {
     "cell_type": "code",
     "collapsed": false,
     "input": [
      "scaler = StandardScaler()\n",
      "x_pruned = scaler.fit_transform(x)"
     ],
     "language": "python",
     "metadata": {},
     "outputs": [],
     "prompt_number": 42
    },
    {
     "cell_type": "code",
     "collapsed": false,
     "input": [
      "feature_names = stats_pruned.columns.values"
     ],
     "language": "python",
     "metadata": {},
     "outputs": [],
     "prompt_number": 43
    },
    {
     "cell_type": "code",
     "collapsed": false,
     "input": [
      "vif = [variance_inflation_factor(x_scaled, col) for col in xrange(x_scaled.shape[1])]"
     ],
     "language": "python",
     "metadata": {},
     "outputs": [],
     "prompt_number": 44
    },
    {
     "cell_type": "code",
     "collapsed": false,
     "input": [
      "zip(vif, feature_names)"
     ],
     "language": "python",
     "metadata": {},
     "outputs": [
      {
       "metadata": {},
       "output_type": "pyout",
       "prompt_number": 45,
       "text": [
        "[(nan, '_20_reb'),\n",
        " (2.3232646413884468, '_40_pts'),\n",
        " (3.099973924140988, '_5_blk'),\n",
        " (2.5583691874867571, '_5_stl'),\n",
        " (3.2826153029391079, 'ast'),\n",
        " (190036935.48370814, 'ast_to'),\n",
        " (8.2032827384218852, 'astpct'),\n",
        " (17.978150577641646, 'blk'),\n",
        " (19124656.985708512, 'blkpct'),\n",
        " (4.8911542003284083, 'dbl_dbl'),\n",
        " (13.717477282514521, 'drb'),\n",
        " (inf, 'drbpct'),\n",
        " (518.93282127926705, 'drtg'),\n",
        " (21129.564180145786, 'dws'),\n",
        " (21377.576159298682, 'ediff'),\n",
        " (346061.19871661032, 'efgpct'),\n",
        " (86.736913551758022, 'fg3a'),\n",
        " (74.464553355393164, 'fg3m'),\n",
        " (1069.3081439950811, 'fg3pct'),\n",
        " (160256.93698674868, 'fga'),\n",
        " (1904161358.7764828, 'fgm'),\n",
        " (40434.534043811895, 'fgpct'),\n",
        " (81245.066394499881, 'fic'),\n",
        " (3338961506.4996514, 'ft_fga'),\n",
        " (11.081218981979251, 'fta'),\n",
        " (73638132.87765573, 'ftm'),\n",
        " (3730.3210419056595, 'ftpct'),\n",
        " (228885.57379329094, 'gp'),\n",
        " (inf, 'high_game'),\n",
        " (10.256000365408415, 'hob'),\n",
        " (27.118818234214988, 'ht'),\n",
        " (7.9971082754363625, 'l'),\n",
        " (inf, 'min'),\n",
        " (48.10307546446689, 'orb'),\n",
        " (inf, 'orbpct'),\n",
        " (230.81040424653685, 'ortg'),\n",
        " (287639.38165621378, 'ows'),\n",
        " (83465.746619397309, 'per'),\n",
        " (30.100700172182293, 'pf'),\n",
        " (36924926.888011456, 'ppr'),\n",
        " (10.560570393422465, 'pps'),\n",
        " (76.475391471295495, 'pts'),\n",
        " (6519203798.0495596, 'reb'),\n",
        " (inf, 'stl'),\n",
        " (42019635.050169773, 'stl_to'),\n",
        " (4.1066018150601806, 'stlpct'),\n",
        " (4.7900846441743417, 'total_s_pct'),\n",
        " (724672.55940323207, 'tov'),\n",
        " (90452664.394567743, 'tovpct'),\n",
        " (2.7081295157277996, 'tpl_dbl'),\n",
        " (1.689207276032876, 'trbpct'),\n",
        " (1161.9775733693359, 'tspct'),\n",
        " (65.065564699399644, 'usgpct'),\n",
        " (13.404526175881928, 'w'),\n",
        " (inf, 'win_pct'),\n",
        " (4.1287363801882559, 'ws'),\n",
        " (155021.14855930192, 'wt'),\n",
        " (2.9694097757938884, 'pos_C'),\n",
        " (inf, 'pos_PF'),\n",
        " (inf, 'pos_PG'),\n",
        " (inf, 'pos_SF'),\n",
        " (inf, 'pos_SG')]"
       ]
      }
     ],
     "prompt_number": 45
    },
    {
     "cell_type": "code",
     "collapsed": false,
     "input": [],
     "language": "python",
     "metadata": {},
     "outputs": [],
     "prompt_number": 45
    }
   ],
   "metadata": {}
  }
 ]
}